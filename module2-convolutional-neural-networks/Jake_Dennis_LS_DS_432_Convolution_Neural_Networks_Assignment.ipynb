{
  "nbformat": 4,
  "nbformat_minor": 0,
  "metadata": {
    "kernelspec": {
      "name": "python3",
      "display_name": "Python 3"
    },
    "nteract": {
      "version": "0.23.1"
    },
    "colab": {
      "name": "Jake_Dennis_LS_DS_432_Convolution_Neural_Networks_Assignment.ipynb",
      "provenance": [],
      "include_colab_link": true
    },
    "accelerator": "GPU"
  },
  "cells": [
    {
      "cell_type": "markdown",
      "metadata": {
        "id": "view-in-github",
        "colab_type": "text"
      },
      "source": [
        "<a href=\"https://colab.research.google.com/github/imdeja/DS-Unit-4-Sprint-3-Deep-Learning/blob/master/module2-convolutional-neural-networks/Jake_Dennis_LS_DS_432_Convolution_Neural_Networks_Assignment.ipynb\" target=\"_parent\"><img src=\"https://colab.research.google.com/assets/colab-badge.svg\" alt=\"Open In Colab\"/></a>"
      ]
    },
    {
      "cell_type": "markdown",
      "metadata": {
        "id": "ujTPlHCUJnDX",
        "colab_type": "text"
      },
      "source": [
        "<img align=\"left\" src=\"https://lever-client-logos.s3.amazonaws.com/864372b1-534c-480e-acd5-9711f850815c-1524247202159.png\" width=200>\n",
        "<br></br>\n",
        "<br></br>\n",
        "\n",
        "## *Data Science Unit 4 Sprint 3 Assignment 2*\n",
        "# Convolutional Neural Networks (CNNs)"
      ]
    },
    {
      "cell_type": "markdown",
      "metadata": {
        "colab_type": "text",
        "id": "0lfZdD_cp1t5"
      },
      "source": [
        "# Assignment\n",
        "\n",
        "- <a href=\"#p1\">Part 1:</a> Pre-Trained Model\n",
        "- <a href=\"#p2\">Part 2:</a> Custom CNN Model\n",
        "- <a href=\"#p3\">Part 3:</a> CNN with Data Augmentation\n",
        "\n",
        "\n",
        "You will apply three different CNN models to a binary image classification model using Keras. Classify images of Mountains (`./data/train/mountain/*`) and images of forests (`./data/train/forest/*`). Treat mountains as the positive class (1) and the forest images as the negative (zero). \n",
        "\n",
        "|Mountain (+)|Forest (-)|\n",
        "|---|---|\n",
        "|![](https://github.com/imdeja/DS-Unit-4-Sprint-3-Deep-Learning/blob/master/module2-convolutional-neural-networks/data/train/mountain/art1131.jpg?raw=1)|![](https://github.com/imdeja/DS-Unit-4-Sprint-3-Deep-Learning/blob/master/module2-convolutional-neural-networks/data/validation/forest/cdmc317.jpg?raw=1)|\n",
        "\n",
        "The problem is relatively difficult given that the sample is tiny: there are about 350 observations per class. This sample size might be something that you can expect with prototyping an image classification problem/solution at work. Get accustomed to evaluating several different possible models."
      ]
    },
    {
      "cell_type": "markdown",
      "metadata": {
        "colab_type": "text",
        "id": "e7iSkn_HJnDZ"
      },
      "source": [
        "# Pre - Trained Model\n",
        "<a id=\"p1\"></a>\n",
        "\n",
        "Load a pretrained network from Keras, [ResNet50](https://tfhub.dev/google/imagenet/resnet_v1_50/classification/1) - a 50 layer deep network trained to recognize [1000 objects](https://storage.googleapis.com/download.tensorflow.org/data/ImageNetLabels.txt). Starting usage:\n",
        "\n",
        "```python\n",
        "import numpy as np\n",
        "\n",
        "from tensorflow.keras.applications.resnet50 import ResNet50\n",
        "from tensorflow.keras.preprocessing import image\n",
        "from tensorflow.keras.applications.resnet50 import preprocess_input, decode_predictions\n",
        "\n",
        "from tensorflow.keras.layers import Dense, GlobalAveragePooling2D\n",
        "from tensorflow.keras.models import Model # This is the functional API\n",
        "\n",
        "resnet = ResNet50(weights='imagenet', include_top=False)\n",
        "\n",
        "```\n",
        "\n",
        "The `include_top` parameter in `ResNet50` will remove the full connected layers from the ResNet model. The next step is to turn off the training of the ResNet layers. We want to use the learned parameters without updating them in future training passes. \n",
        "\n",
        "```python\n",
        "for layer in resnet.layers:\n",
        "    layer.trainable = False\n",
        "```\n",
        "\n",
        "Using the Keras functional API, we will need to additional additional full connected layers to our model. We we removed the top layers, we removed all preivous fully connected layers. In other words, we kept only the feature processing portions of our network. You can expert with additional layers beyond what's listed here. The `GlobalAveragePooling2D` layer functions as a really fancy flatten function by taking the average of each of the last convolutional layer outputs (which is two dimensional still). \n",
        "\n",
        "```python\n",
        "x = resnet.output\n",
        "x = GlobalAveragePooling2D()(x) # This layer is a really fancy flatten\n",
        "x = Dense(1024, activation='relu')(x)\n",
        "predictions = Dense(1, activation='sigmoid')(x)\n",
        "model = Model(resnet.input, predictions)\n",
        "```\n",
        "\n",
        "Your assignment is to apply the transfer learning above to classify images of Mountains (`./data/train/mountain/*`) and images of forests (`./data/train/forest/*`). Treat mountains as the positive class (1) and the forest images as the negative (zero). \n",
        "\n",
        "Steps to complete assignment: \n",
        "1. Load in Image Data into numpy arrays (`X`) \n",
        "2. Create a `y` for the labels\n",
        "3. Train your model with pre-trained layers from resnet\n",
        "4. Report your model's accuracy"
      ]
    },
    {
      "cell_type": "markdown",
      "metadata": {
        "id": "3exslx5dJnDZ",
        "colab_type": "text"
      },
      "source": [
        "## Load in Data\n",
        "\n",
        "This surprisingly more difficult than it seems, because you are working with directories of images instead of a single file. This boiler plate will help you download a zipped version of the directory of images. The directory is organized into \"train\" and \"validation\" which you can use inside an `ImageGenerator` class to stream batches of images thru your model.  \n"
      ]
    },
    {
      "cell_type": "markdown",
      "metadata": {
        "id": "CntFKa4eJnDc",
        "colab_type": "text"
      },
      "source": [
        "### Download & Summarize the Data\n",
        "\n",
        "This step is completed for you. Just run the cells and review the results. "
      ]
    },
    {
      "cell_type": "code",
      "metadata": {
        "id": "cz0w2QhrJnDd",
        "colab_type": "code",
        "colab": {
          "base_uri": "https://localhost:8080/",
          "height": 71
        },
        "outputId": "3bc5e82d-aa7a-49eb-c627-8fce2301799d"
      },
      "source": [
        "import tensorflow as tf\n",
        "import os\n",
        "\n",
        "_URL = 'https://github.com/LambdaSchool/DS-Unit-4-Sprint-3-Deep-Learning/blob/master/module2-convolutional-neural-networks/data.zip?raw=true'\n",
        "\n",
        "path_to_zip = tf.keras.utils.get_file('./data.zip', origin=_URL, extract=True)\n",
        "PATH = os.path.join(os.path.dirname(path_to_zip), 'data')"
      ],
      "execution_count": 2,
      "outputs": [
        {
          "output_type": "stream",
          "text": [
            "Downloading data from https://github.com/LambdaSchool/DS-Unit-4-Sprint-3-Deep-Learning/blob/master/module2-convolutional-neural-networks/data.zip?raw=true\n",
            "42172416/42170838 [==============================] - 0s 0us/step\n"
          ],
          "name": "stdout"
        }
      ]
    },
    {
      "cell_type": "code",
      "metadata": {
        "id": "HFA4F1ycJnDh",
        "colab_type": "code",
        "colab": {}
      },
      "source": [
        "train_dir = os.path.join(PATH, 'train')\n",
        "validation_dir = os.path.join(PATH, 'validation')"
      ],
      "execution_count": 4,
      "outputs": []
    },
    {
      "cell_type": "code",
      "metadata": {
        "id": "NLECbqtpJnDk",
        "colab_type": "code",
        "colab": {}
      },
      "source": [
        "train_mountain_dir = os.path.join(train_dir, 'mountain')  # directory with our training cat pictures\n",
        "train_forest_dir = os.path.join(train_dir, 'forest')  # directory with our training dog pictures\n",
        "validation_mountain_dir = os.path.join(validation_dir, 'mountain')  # directory with our validation cat pictures\n",
        "validation_forest_dir = os.path.join(validation_dir, 'forest')  # directory with our validation dog pictures"
      ],
      "execution_count": 5,
      "outputs": []
    },
    {
      "cell_type": "code",
      "metadata": {
        "id": "55mOJyA5JnDo",
        "colab_type": "code",
        "colab": {}
      },
      "source": [
        "num_mountain_tr = len(os.listdir(train_mountain_dir))\n",
        "num_forest_tr = len(os.listdir(train_forest_dir))\n",
        "\n",
        "num_mountain_val = len(os.listdir(validation_mountain_dir))\n",
        "num_forest_val = len(os.listdir(validation_forest_dir))\n",
        "\n",
        "total_train = num_mountain_tr + num_forest_tr\n",
        "total_val = num_mountain_val + num_forest_val"
      ],
      "execution_count": 6,
      "outputs": []
    },
    {
      "cell_type": "code",
      "metadata": {
        "id": "oNxS-pvtJnDr",
        "colab_type": "code",
        "colab": {
          "base_uri": "https://localhost:8080/",
          "height": 136
        },
        "outputId": "b3550c89-a102-4cfe-db0f-fbb8915d01ec"
      },
      "source": [
        "print('total training mountain images:', num_mountain_tr)\n",
        "print('total training forest images:', num_forest_tr)\n",
        "\n",
        "print('total validation mountain images:', num_mountain_val)\n",
        "print('total validation forest images:', num_forest_val)\n",
        "print(\"--\")\n",
        "print(\"Total training images:\", total_train)\n",
        "print(\"Total validation images:\", total_val)"
      ],
      "execution_count": 7,
      "outputs": [
        {
          "output_type": "stream",
          "text": [
            "total training mountain images: 254\n",
            "total training forest images: 270\n",
            "total validation mountain images: 125\n",
            "total validation forest images: 62\n",
            "--\n",
            "Total training images: 524\n",
            "Total validation images: 187\n"
          ],
          "name": "stdout"
        }
      ]
    },
    {
      "cell_type": "markdown",
      "metadata": {
        "id": "KFcAVWipJnDt",
        "colab_type": "text"
      },
      "source": [
        "### Keras `ImageGenerator` to Process the Data\n",
        "\n",
        "This step is completed for you, but please review the code. The `ImageGenerator` class reads in batches of data from a directory and pass them to the model one batch at a time. Just like large text files, this method is advantageous, because it stifles the need to load a bunch of images into memory. \n",
        "\n",
        "Check out the documentation for this class method: [Keras `ImageGenerator` Class](https://keras.io/preprocessing/image/#imagedatagenerator-class). You'll expand it's use in the third assignment objective."
      ]
    },
    {
      "cell_type": "code",
      "metadata": {
        "id": "kXN0xUn-JnDu",
        "colab_type": "code",
        "colab": {}
      },
      "source": [
        "batch_size = 16\n",
        "epochs = 50\n",
        "IMG_HEIGHT = 224\n",
        "IMG_WIDTH = 224"
      ],
      "execution_count": 8,
      "outputs": []
    },
    {
      "cell_type": "code",
      "metadata": {
        "id": "dD-bTk3AJnDx",
        "colab_type": "code",
        "colab": {}
      },
      "source": [
        "from tensorflow.keras.preprocessing.image import ImageDataGenerator\n",
        "\n",
        "train_image_generator = ImageDataGenerator(rescale=1./255) # Generator for our training data\n",
        "validation_image_generator = ImageDataGenerator(rescale=1./255) # Generator for our validation data"
      ],
      "execution_count": 9,
      "outputs": []
    },
    {
      "cell_type": "code",
      "metadata": {
        "id": "4igsNBmkJnD0",
        "colab_type": "code",
        "colab": {
          "base_uri": "https://localhost:8080/",
          "height": 34
        },
        "outputId": "c40df6ba-57bc-4e7c-ed30-79e4901abaad"
      },
      "source": [
        "train_data_gen = train_image_generator.flow_from_directory(batch_size=batch_size,\n",
        "                                                           directory=train_dir,\n",
        "                                                           shuffle=True,\n",
        "                                                           target_size=(IMG_HEIGHT, IMG_WIDTH),\n",
        "                                                           class_mode='binary')"
      ],
      "execution_count": 10,
      "outputs": [
        {
          "output_type": "stream",
          "text": [
            "Found 533 images belonging to 2 classes.\n"
          ],
          "name": "stdout"
        }
      ]
    },
    {
      "cell_type": "code",
      "metadata": {
        "id": "Yt851B4TJnD3",
        "colab_type": "code",
        "colab": {
          "base_uri": "https://localhost:8080/",
          "height": 34
        },
        "outputId": "72eb6dca-b0d3-480a-9618-e6db0fd1b000"
      },
      "source": [
        "val_data_gen = validation_image_generator.flow_from_directory(batch_size=batch_size,\n",
        "                                                              directory=validation_dir,\n",
        "                                                              target_size=(IMG_HEIGHT, IMG_WIDTH),\n",
        "                                                              class_mode='binary')"
      ],
      "execution_count": 11,
      "outputs": [
        {
          "output_type": "stream",
          "text": [
            "Found 195 images belonging to 2 classes.\n"
          ],
          "name": "stdout"
        }
      ]
    },
    {
      "cell_type": "markdown",
      "metadata": {
        "id": "SPwvjIIRJnD6",
        "colab_type": "text"
      },
      "source": [
        "## Instatiate Model"
      ]
    },
    {
      "cell_type": "code",
      "metadata": {
        "id": "qrCEKTCUJnD7",
        "colab_type": "code",
        "colab": {
          "base_uri": "https://localhost:8080/",
          "height": 71
        },
        "outputId": "0cb117bb-9493-4ef2-da86-2d8c4834a944"
      },
      "source": [
        "import numpy as np\n",
        " \n",
        "from tensorflow.keras.applications.resnet50 import ResNet50\n",
        "from tensorflow.keras.preprocessing import image\n",
        "from tensorflow.keras.applications.resnet50 import preprocess_input, decode_predictions\n",
        " \n",
        "from tensorflow.keras.layers import Dense, GlobalAveragePooling2D\n",
        "from tensorflow.keras.models import Model # This is the functional API\n",
        " \n",
        "resnet = ResNet50(weights='imagenet', include_top=False)"
      ],
      "execution_count": 12,
      "outputs": [
        {
          "output_type": "stream",
          "text": [
            "Downloading data from https://storage.googleapis.com/tensorflow/keras-applications/resnet/resnet50_weights_tf_dim_ordering_tf_kernels_notop.h5\n",
            "94773248/94765736 [==============================] - 3s 0us/step\n"
          ],
          "name": "stdout"
        }
      ]
    },
    {
      "cell_type": "code",
      "metadata": {
        "id": "aOXZ247xKMV1",
        "colab_type": "code",
        "colab": {}
      },
      "source": [
        "for layer in resnet.layers:\n",
        "    layer.trainable = False"
      ],
      "execution_count": 13,
      "outputs": []
    },
    {
      "cell_type": "code",
      "metadata": {
        "id": "kro7tY1eKT3I",
        "colab_type": "code",
        "colab": {}
      },
      "source": [
        "x = resnet.output\n",
        "x = GlobalAveragePooling2D()(x)\n",
        "x = Dense(1024, activation='relu')(x)\n",
        "predictions = Dense(1, activation='sigmoid')(x)\n",
        "model = Model(resnet.input, predictions)"
      ],
      "execution_count": 14,
      "outputs": []
    },
    {
      "cell_type": "code",
      "metadata": {
        "id": "3CeLSHE8KaNN",
        "colab_type": "code",
        "colab": {}
      },
      "source": [
        "model.compile(optimizer='adam',\n",
        "              loss='binary_crossentropy',\n",
        "              metrics=['accuracy'])"
      ],
      "execution_count": 15,
      "outputs": []
    },
    {
      "cell_type": "markdown",
      "metadata": {
        "id": "hzyNCEUgJnD-",
        "colab_type": "text"
      },
      "source": [
        "## Fit Model"
      ]
    },
    {
      "cell_type": "code",
      "metadata": {
        "id": "R3leLdznJnD-",
        "colab_type": "code",
        "colab": {
          "base_uri": "https://localhost:8080/",
          "height": 1000
        },
        "outputId": "2810ed23-4d33-4aa9-bc64-384e13e38e46"
      },
      "source": [
        "history = model.fit(\n",
        "    train_data_gen,\n",
        "    steps_per_epoch=total_train // batch_size,\n",
        "    epochs=epochs,\n",
        "    validation_data=val_data_gen,\n",
        "    validation_steps=total_val // batch_size\n",
        ")"
      ],
      "execution_count": 16,
      "outputs": [
        {
          "output_type": "stream",
          "text": [
            "Epoch 1/50\n",
            "32/32 [==============================] - 4s 138ms/step - loss: 0.7954 - accuracy: 0.5210 - val_loss: 0.5993 - val_accuracy: 0.6534\n",
            "Epoch 2/50\n",
            "32/32 [==============================] - 3s 104ms/step - loss: 0.6254 - accuracy: 0.6068 - val_loss: 0.5228 - val_accuracy: 0.6875\n",
            "Epoch 3/50\n",
            "32/32 [==============================] - 3s 105ms/step - loss: 0.5757 - accuracy: 0.6836 - val_loss: 0.5878 - val_accuracy: 0.6534\n",
            "Epoch 4/50\n",
            "32/32 [==============================] - 3s 104ms/step - loss: 0.5371 - accuracy: 0.7285 - val_loss: 0.4729 - val_accuracy: 0.8409\n",
            "Epoch 5/50\n",
            "32/32 [==============================] - 3s 103ms/step - loss: 0.4910 - accuracy: 0.7445 - val_loss: 0.4930 - val_accuracy: 0.8011\n",
            "Epoch 6/50\n",
            "32/32 [==============================] - 3s 103ms/step - loss: 0.4716 - accuracy: 0.7764 - val_loss: 0.4214 - val_accuracy: 0.8466\n",
            "Epoch 7/50\n",
            "32/32 [==============================] - 3s 105ms/step - loss: 0.4085 - accuracy: 0.8343 - val_loss: 0.6020 - val_accuracy: 0.6705\n",
            "Epoch 8/50\n",
            "32/32 [==============================] - 3s 106ms/step - loss: 0.3863 - accuracy: 0.8443 - val_loss: 0.5484 - val_accuracy: 0.7443\n",
            "Epoch 9/50\n",
            "32/32 [==============================] - 3s 104ms/step - loss: 0.3326 - accuracy: 0.8802 - val_loss: 0.4182 - val_accuracy: 0.8352\n",
            "Epoch 10/50\n",
            "32/32 [==============================] - 3s 104ms/step - loss: 0.3041 - accuracy: 0.9042 - val_loss: 0.5134 - val_accuracy: 0.7784\n",
            "Epoch 11/50\n",
            "32/32 [==============================] - 3s 103ms/step - loss: 0.3078 - accuracy: 0.8902 - val_loss: 0.3117 - val_accuracy: 0.9091\n",
            "Epoch 12/50\n",
            "32/32 [==============================] - 3s 103ms/step - loss: 0.3754 - accuracy: 0.8283 - val_loss: 0.3458 - val_accuracy: 0.8580\n",
            "Epoch 13/50\n",
            "32/32 [==============================] - 3s 104ms/step - loss: 0.2725 - accuracy: 0.9002 - val_loss: 0.2984 - val_accuracy: 0.8977\n",
            "Epoch 14/50\n",
            "32/32 [==============================] - 3s 105ms/step - loss: 0.2516 - accuracy: 0.9082 - val_loss: 0.3087 - val_accuracy: 0.8352\n",
            "Epoch 15/50\n",
            "32/32 [==============================] - 3s 105ms/step - loss: 0.2524 - accuracy: 0.9122 - val_loss: 0.3820 - val_accuracy: 0.8295\n",
            "Epoch 16/50\n",
            "32/32 [==============================] - 3s 104ms/step - loss: 0.2319 - accuracy: 0.9202 - val_loss: 0.3672 - val_accuracy: 0.8466\n",
            "Epoch 17/50\n",
            "32/32 [==============================] - 3s 104ms/step - loss: 0.2146 - accuracy: 0.9162 - val_loss: 0.6776 - val_accuracy: 0.6932\n",
            "Epoch 18/50\n",
            "32/32 [==============================] - 3s 104ms/step - loss: 0.2381 - accuracy: 0.9162 - val_loss: 0.3693 - val_accuracy: 0.8352\n",
            "Epoch 19/50\n",
            "32/32 [==============================] - 3s 104ms/step - loss: 0.2264 - accuracy: 0.8962 - val_loss: 0.3419 - val_accuracy: 0.8011\n",
            "Epoch 20/50\n",
            "32/32 [==============================] - 3s 106ms/step - loss: 0.2343 - accuracy: 0.9062 - val_loss: 0.3162 - val_accuracy: 0.8693\n",
            "Epoch 21/50\n",
            "32/32 [==============================] - 3s 104ms/step - loss: 0.2031 - accuracy: 0.9281 - val_loss: 0.2770 - val_accuracy: 0.8977\n",
            "Epoch 22/50\n",
            "32/32 [==============================] - 3s 104ms/step - loss: 0.1753 - accuracy: 0.9381 - val_loss: 0.2313 - val_accuracy: 0.9148\n",
            "Epoch 23/50\n",
            "32/32 [==============================] - 3s 104ms/step - loss: 0.1675 - accuracy: 0.9461 - val_loss: 0.2319 - val_accuracy: 0.9318\n",
            "Epoch 24/50\n",
            "32/32 [==============================] - 3s 104ms/step - loss: 0.1667 - accuracy: 0.9461 - val_loss: 0.2586 - val_accuracy: 0.8807\n",
            "Epoch 25/50\n",
            "32/32 [==============================] - 3s 104ms/step - loss: 0.1980 - accuracy: 0.9202 - val_loss: 0.2999 - val_accuracy: 0.8636\n",
            "Epoch 26/50\n",
            "32/32 [==============================] - 3s 105ms/step - loss: 0.1638 - accuracy: 0.9375 - val_loss: 0.3173 - val_accuracy: 0.8693\n",
            "Epoch 27/50\n",
            "32/32 [==============================] - 3s 104ms/step - loss: 0.1914 - accuracy: 0.9180 - val_loss: 0.4637 - val_accuracy: 0.7955\n",
            "Epoch 28/50\n",
            "32/32 [==============================] - 3s 104ms/step - loss: 0.1633 - accuracy: 0.9381 - val_loss: 0.2072 - val_accuracy: 0.9432\n",
            "Epoch 29/50\n",
            "32/32 [==============================] - 3s 103ms/step - loss: 0.1580 - accuracy: 0.9461 - val_loss: 0.1928 - val_accuracy: 0.9432\n",
            "Epoch 30/50\n",
            "32/32 [==============================] - 3s 105ms/step - loss: 0.1356 - accuracy: 0.9541 - val_loss: 0.2004 - val_accuracy: 0.9432\n",
            "Epoch 31/50\n",
            "32/32 [==============================] - 3s 105ms/step - loss: 0.1545 - accuracy: 0.9441 - val_loss: 0.3402 - val_accuracy: 0.8636\n",
            "Epoch 32/50\n",
            "32/32 [==============================] - 3s 104ms/step - loss: 0.1380 - accuracy: 0.9461 - val_loss: 0.3708 - val_accuracy: 0.8352\n",
            "Epoch 33/50\n",
            "32/32 [==============================] - 3s 104ms/step - loss: 0.2433 - accuracy: 0.8942 - val_loss: 0.2367 - val_accuracy: 0.8977\n",
            "Epoch 34/50\n",
            "32/32 [==============================] - 3s 104ms/step - loss: 0.1035 - accuracy: 0.9701 - val_loss: 0.2282 - val_accuracy: 0.9205\n",
            "Epoch 35/50\n",
            "32/32 [==============================] - 3s 104ms/step - loss: 0.1453 - accuracy: 0.9441 - val_loss: 0.1901 - val_accuracy: 0.9375\n",
            "Epoch 36/50\n",
            "32/32 [==============================] - 3s 103ms/step - loss: 0.1023 - accuracy: 0.9681 - val_loss: 0.2723 - val_accuracy: 0.8807\n",
            "Epoch 37/50\n",
            "32/32 [==============================] - 3s 103ms/step - loss: 0.0913 - accuracy: 0.9701 - val_loss: 0.2039 - val_accuracy: 0.9375\n",
            "Epoch 38/50\n",
            "32/32 [==============================] - 3s 105ms/step - loss: 0.1299 - accuracy: 0.9481 - val_loss: 0.1975 - val_accuracy: 0.9318\n",
            "Epoch 39/50\n",
            "32/32 [==============================] - 3s 104ms/step - loss: 0.1696 - accuracy: 0.9222 - val_loss: 0.4566 - val_accuracy: 0.8239\n",
            "Epoch 40/50\n",
            "32/32 [==============================] - 3s 104ms/step - loss: 0.2193 - accuracy: 0.8902 - val_loss: 0.7377 - val_accuracy: 0.7216\n",
            "Epoch 41/50\n",
            "32/32 [==============================] - 3s 105ms/step - loss: 0.0944 - accuracy: 0.9661 - val_loss: 0.2485 - val_accuracy: 0.9205\n",
            "Epoch 42/50\n",
            "32/32 [==============================] - 3s 104ms/step - loss: 0.0915 - accuracy: 0.9641 - val_loss: 0.1829 - val_accuracy: 0.9489\n",
            "Epoch 43/50\n",
            "32/32 [==============================] - 3s 105ms/step - loss: 0.0758 - accuracy: 0.9760 - val_loss: 0.3213 - val_accuracy: 0.8693\n",
            "Epoch 44/50\n",
            "32/32 [==============================] - 3s 105ms/step - loss: 0.1474 - accuracy: 0.9381 - val_loss: 0.3640 - val_accuracy: 0.8580\n",
            "Epoch 45/50\n",
            "32/32 [==============================] - 3s 105ms/step - loss: 0.1191 - accuracy: 0.9561 - val_loss: 0.2084 - val_accuracy: 0.9432\n",
            "Epoch 46/50\n",
            "32/32 [==============================] - 3s 104ms/step - loss: 0.0940 - accuracy: 0.9641 - val_loss: 0.2306 - val_accuracy: 0.9318\n",
            "Epoch 47/50\n",
            "32/32 [==============================] - 3s 105ms/step - loss: 0.0992 - accuracy: 0.9641 - val_loss: 0.2255 - val_accuracy: 0.9375\n",
            "Epoch 48/50\n",
            "32/32 [==============================] - 3s 105ms/step - loss: 0.0946 - accuracy: 0.9681 - val_loss: 0.3650 - val_accuracy: 0.8750\n",
            "Epoch 49/50\n",
            "32/32 [==============================] - 3s 105ms/step - loss: 0.1601 - accuracy: 0.9261 - val_loss: 0.1947 - val_accuracy: 0.9432\n",
            "Epoch 50/50\n",
            "32/32 [==============================] - 3s 106ms/step - loss: 0.1606 - accuracy: 0.9281 - val_loss: 0.2010 - val_accuracy: 0.9375\n"
          ],
          "name": "stdout"
        }
      ]
    },
    {
      "cell_type": "code",
      "metadata": {
        "id": "GsgITmCbLQh2",
        "colab_type": "code",
        "colab": {
          "base_uri": "https://localhost:8080/",
          "height": 295
        },
        "outputId": "c9b3beef-d96a-4662-8064-ebe2f39a42a2"
      },
      "source": [
        "import matplotlib.pyplot as plt\n",
        "\n",
        "# Plot training & validation loss values\n",
        "plt.plot(history.history['loss'])\n",
        "plt.plot(history.history['val_loss'])\n",
        "plt.title('Model Loss')\n",
        "plt.ylabel('Loss')\n",
        "plt.xlabel('Epoch')\n",
        "plt.legend(['Train', 'Test'], loc='upper left')\n",
        "plt.show();"
      ],
      "execution_count": 17,
      "outputs": [
        {
          "output_type": "display_data",
          "data": {
            "image/png": "[encoded data removed]",
            "text/plain": [
              "<Figure size 432x288 with 1 Axes>"
            ]
          },
          "metadata": {
            "tags": [],
            "needs_background": "light"
          }
        }
      ]
    },
    {
      "cell_type": "code",
      "metadata": {
        "id": "wGcB5zQULWX1",
        "colab_type": "code",
        "colab": {
          "base_uri": "https://localhost:8080/",
          "height": 295
        },
        "outputId": "6ff56af3-581b-4810-c60e-57b235ec7007"
      },
      "source": [
        "# Plot training & validation accuracy\n",
        "plt.plot(history.history['accuracy'])\n",
        "plt.plot(history.history['val_accuracy'])\n",
        "plt.title('Model Accuracy')\n",
        "plt.ylabel('Loss')\n",
        "plt.xlabel('Epoch')\n",
        "plt.legend(['Train', 'Test'], loc='upper left')\n",
        "plt.show();"
      ],
      "execution_count": 18,
      "outputs": [
        {
          "output_type": "display_data",
          "data": {
            "image/png": "[encoded data removed]",
            "text/plain": [
              "<Figure size 432x288 with 1 Axes>"
            ]
          },
          "metadata": {
            "tags": [],
            "needs_background": "light"
          }
        }
      ]
    },
    {
      "cell_type": "markdown",
      "metadata": {
        "id": "_ReZtFxbJnEB",
        "colab_type": "text"
      },
      "source": [
        "# Custom CNN Model\n",
        "\n",
        "In this step, write and train your own convolutional neural network using Keras. You can use any architecture that suits you as long as it has at least one convolutional and one pooling layer at the beginning of the network - you can add more if you want. "
      ]
    },
    {
      "cell_type": "code",
      "metadata": {
        "id": "8Hq70O-VJnEB",
        "colab_type": "code",
        "colab": {
          "base_uri": "https://localhost:8080/",
          "height": 425
        },
        "outputId": "ab759d52-d2e0-4f0f-d78b-a6e44cde4870"
      },
      "source": [
        "# Define the Model\n",
        "from tensorflow.keras.models import Sequential\n",
        "from tensorflow.keras.layers import Conv2D, MaxPooling2D, Flatten, Dense\n",
        "\n",
        "model = Sequential([\n",
        "    Conv2D(224, (3,3), activation='relu', input_shape=(IMG_HEIGHT, IMG_WIDTH,3)),\n",
        "    MaxPooling2D((2,2)),\n",
        "    Conv2D(64, (3,3), activation='relu'),\n",
        "    MaxPooling2D((2,2)),\n",
        "    Conv2D(64, (3,3), activation='relu'),\n",
        "    Flatten(),\n",
        "    Dense(64, activation='relu'),\n",
        "    Dense(1, activation='sigmoid'),\n",
        "])\n",
        "\n",
        "model.summary()"
      ],
      "execution_count": 19,
      "outputs": [
        {
          "output_type": "stream",
          "text": [
            "Model: \"sequential\"\n",
            "_________________________________________________________________\n",
            "Layer (type)                 Output Shape              Param #   \n",
            "=================================================================\n",
            "conv2d (Conv2D)              (None, 222, 222, 224)     6272      \n",
            "_________________________________________________________________\n",
            "max_pooling2d (MaxPooling2D) (None, 111, 111, 224)     0         \n",
            "_________________________________________________________________\n",
            "conv2d_1 (Conv2D)            (None, 109, 109, 64)      129088    \n",
            "_________________________________________________________________\n",
            "max_pooling2d_1 (MaxPooling2 (None, 54, 54, 64)        0         \n",
            "_________________________________________________________________\n",
            "conv2d_2 (Conv2D)            (None, 52, 52, 64)        36928     \n",
            "_________________________________________________________________\n",
            "flatten (Flatten)            (None, 173056)            0         \n",
            "_________________________________________________________________\n",
            "dense_2 (Dense)              (None, 64)                11075648  \n",
            "_________________________________________________________________\n",
            "dense_3 (Dense)              (None, 1)                 65        \n",
            "=================================================================\n",
            "Total params: 11,248,001\n",
            "Trainable params: 11,248,001\n",
            "Non-trainable params: 0\n",
            "_________________________________________________________________\n"
          ],
          "name": "stdout"
        }
      ]
    },
    {
      "cell_type": "code",
      "metadata": {
        "id": "KP850lfHJnEE",
        "colab_type": "code",
        "colab": {}
      },
      "source": [
        "# Compile Model\n",
        "model.compile(optimizer='adam',\n",
        "              loss=\"binary_crossentropy\",\n",
        "              metrics=['accuracy'])"
      ],
      "execution_count": 20,
      "outputs": []
    },
    {
      "cell_type": "code",
      "metadata": {
        "id": "TBThWgZ2JnEH",
        "colab_type": "code",
        "colab": {
          "base_uri": "https://localhost:8080/",
          "height": 357
        },
        "outputId": "7bb207c3-1ec9-48fc-cb55-7c1fa7e15b73"
      },
      "source": [
        "# Fit Model\n",
        "from tensorflow.keras.callbacks import EarlyStopping\n",
        "\n",
        "stop = EarlyStopping(monitor='val_loss',\n",
        "                     min_delta=0.001,\n",
        "                     patience=5)\n",
        "\n",
        "custom = model.fit(train_data_gen,\n",
        "                   steps_per_epoch=total_train // batch_size,\n",
        "                   epochs=epochs,\n",
        "                   validation_data=val_data_gen,\n",
        "                   validation_steps=total_val // batch_size,\n",
        "                   callbacks=[stop])"
      ],
      "execution_count": 21,
      "outputs": [
        {
          "output_type": "stream",
          "text": [
            "Epoch 1/50\n",
            "32/32 [==============================] - 6s 194ms/step - loss: 0.5622 - accuracy: 0.7745 - val_loss: 0.4357 - val_accuracy: 0.8011\n",
            "Epoch 2/50\n",
            "32/32 [==============================] - 5s 160ms/step - loss: 0.2547 - accuracy: 0.9042 - val_loss: 0.2851 - val_accuracy: 0.9034\n",
            "Epoch 3/50\n",
            "32/32 [==============================] - 5s 161ms/step - loss: 0.3173 - accuracy: 0.8822 - val_loss: 0.2544 - val_accuracy: 0.9034\n",
            "Epoch 4/50\n",
            "32/32 [==============================] - 5s 161ms/step - loss: 0.2059 - accuracy: 0.9042 - val_loss: 0.1922 - val_accuracy: 0.9091\n",
            "Epoch 5/50\n",
            "32/32 [==============================] - 5s 161ms/step - loss: 0.1618 - accuracy: 0.9401 - val_loss: 0.1402 - val_accuracy: 0.9375\n",
            "Epoch 6/50\n",
            "32/32 [==============================] - 5s 160ms/step - loss: 0.1358 - accuracy: 0.9601 - val_loss: 0.3548 - val_accuracy: 0.8977\n",
            "Epoch 7/50\n",
            "32/32 [==============================] - 5s 160ms/step - loss: 0.1649 - accuracy: 0.9361 - val_loss: 0.2919 - val_accuracy: 0.8920\n",
            "Epoch 8/50\n",
            "32/32 [==============================] - 5s 161ms/step - loss: 0.1330 - accuracy: 0.9501 - val_loss: 0.2024 - val_accuracy: 0.9375\n",
            "Epoch 9/50\n",
            "32/32 [==============================] - 5s 160ms/step - loss: 0.1258 - accuracy: 0.9581 - val_loss: 0.2240 - val_accuracy: 0.8920\n",
            "Epoch 10/50\n",
            "32/32 [==============================] - 5s 160ms/step - loss: 0.0960 - accuracy: 0.9661 - val_loss: 0.1466 - val_accuracy: 0.9261\n"
          ],
          "name": "stdout"
        }
      ]
    },
    {
      "cell_type": "code",
      "metadata": {
        "id": "9nRMd2BhL3-_",
        "colab_type": "code",
        "colab": {
          "base_uri": "https://localhost:8080/",
          "height": 295
        },
        "outputId": "456215ee-8a10-48d0-d44a-66a2d29a32b8"
      },
      "source": [
        "# Plot training & validation loss values\n",
        "plt.plot(custom.history['loss'])\n",
        "plt.plot(custom.history['val_loss'])\n",
        "plt.title('Model Loss')\n",
        "plt.ylabel('Loss')\n",
        "plt.xlabel('Epoch')\n",
        "plt.legend(['Train', 'Test'], loc='upper left')\n",
        "plt.show();"
      ],
      "execution_count": 22,
      "outputs": [
        {
          "output_type": "display_data",
          "data": {
            "image/png": "[encoded data removed]",
            "text/plain": [
              "<Figure size 432x288 with 1 Axes>"
            ]
          },
          "metadata": {
            "tags": [],
            "needs_background": "light"
          }
        }
      ]
    },
    {
      "cell_type": "code",
      "metadata": {
        "id": "roal3_-bL6vH",
        "colab_type": "code",
        "colab": {
          "base_uri": "https://localhost:8080/",
          "height": 295
        },
        "outputId": "234cc7d4-ca9c-4757-b686-6de7f46d8ad3"
      },
      "source": [
        "# Plot training & validation accuracy\n",
        "plt.plot(custom.history['accuracy'])\n",
        "plt.plot(custom.history['val_accuracy'])\n",
        "plt.title('Model Accuracy')\n",
        "plt.ylabel('Loss')\n",
        "plt.xlabel('Epoch')\n",
        "plt.legend(['Train', 'Test'], loc='upper left')\n",
        "plt.show();"
      ],
      "execution_count": 23,
      "outputs": [
        {
          "output_type": "display_data",
          "data": {
            "image/png": "[encoded data removed]",
            "text/plain": [
              "<Figure size 432x288 with 1 Axes>"
            ]
          },
          "metadata": {
            "tags": [],
            "needs_background": "light"
          }
        }
      ]
    },
    {
      "cell_type": "markdown",
      "metadata": {
        "id": "_SpzBFovJnEL",
        "colab_type": "text"
      },
      "source": [
        "# Custom CNN Model with Image Manipulations\n",
        "\n",
        "To simulate an increase in a sample of image, you can apply image manipulation techniques: cropping, rotation, stretching, etc. Luckily Keras has some handy functions for us to apply these techniques to our mountain and forest example. Simply, you should be able to modify our image generator for the problem. Check out these resources to help you get started: \n",
        "\n",
        "1. [Keras `ImageGenerator` Class](https://keras.io/preprocessing/image/#imagedatagenerator-class)\n",
        "2. [Building a powerful image classifier with very little data](https://blog.keras.io/building-powerful-image-classification-models-using-very-little-data.html)\n",
        " "
      ]
    },
    {
      "cell_type": "code",
      "metadata": {
        "id": "fUXri1LUJnEL",
        "colab_type": "code",
        "colab": {
          "base_uri": "https://localhost:8080/",
          "height": 51
        },
        "outputId": "1c108306-511e-46cc-caa7-cfbf7bc4fe48"
      },
      "source": [
        "train_image_generator = ImageDataGenerator(rotation_range=40,\n",
        "                                           width_shift_range=0.25,\n",
        "                                           height_shift_range=0.25,\n",
        "                                           rescale=1./255,\n",
        "                                           shear_range=0.15,\n",
        "                                           zoom_range=0.3,\n",
        "                                           horizontal_flip=True,\n",
        "                                           fill_mode='nearest') # Generator for our training data\n",
        "\n",
        "validation_image_generator = ImageDataGenerator(rotation_range=40,\n",
        "                                                width_shift_range=0.25,\n",
        "                                                height_shift_range=0.25,\n",
        "                                                rescale=1./255,\n",
        "                                                shear_range=0.15,\n",
        "                                                zoom_range=0.3,\n",
        "                                                horizontal_flip=True,\n",
        "                                                fill_mode='nearest') # Generator for our validation data\n",
        "\n",
        "train_data_gen = train_image_generator.flow_from_directory(batch_size=batch_size,\n",
        "                                                           directory=train_dir,\n",
        "                                                           shuffle=True,\n",
        "                                                           target_size=(IMG_HEIGHT, IMG_WIDTH),\n",
        "                                                           class_mode='binary')\n",
        "\n",
        "val_data_gen = validation_image_generator.flow_from_directory(batch_size=batch_size,\n",
        "                                                              directory=validation_dir,\n",
        "                                                              target_size=(IMG_HEIGHT, IMG_WIDTH),\n",
        "                                                              class_mode='binary')"
      ],
      "execution_count": 24,
      "outputs": [
        {
          "output_type": "stream",
          "text": [
            "Found 533 images belonging to 2 classes.\n",
            "Found 195 images belonging to 2 classes.\n"
          ],
          "name": "stdout"
        }
      ]
    },
    {
      "cell_type": "code",
      "metadata": {
        "id": "lr8eDLD-MIrB",
        "colab_type": "code",
        "colab": {
          "base_uri": "https://localhost:8080/",
          "height": 425
        },
        "outputId": "79c33686-45f4-4700-e416-1beb33d69c54"
      },
      "source": [
        "# Define the Model\n",
        "\n",
        "model = Sequential([\n",
        "    Conv2D(224, (3,3), activation='relu', input_shape=(IMG_HEIGHT, IMG_WIDTH,3)),\n",
        "    MaxPooling2D((2,2)),\n",
        "    Conv2D(64, (3,3), activation='relu'),\n",
        "    MaxPooling2D((2,2)),\n",
        "    Conv2D(64, (3,3), activation='relu'),\n",
        "    Flatten(),\n",
        "    Dense(64, activation='relu'),\n",
        "    Dense(1, activation='sigmoid'),\n",
        "])\n",
        "\n",
        "model.summary()"
      ],
      "execution_count": 25,
      "outputs": [
        {
          "output_type": "stream",
          "text": [
            "Model: \"sequential_1\"\n",
            "_________________________________________________________________\n",
            "Layer (type)                 Output Shape              Param #   \n",
            "=================================================================\n",
            "conv2d_3 (Conv2D)            (None, 222, 222, 224)     6272      \n",
            "_________________________________________________________________\n",
            "max_pooling2d_2 (MaxPooling2 (None, 111, 111, 224)     0         \n",
            "_________________________________________________________________\n",
            "conv2d_4 (Conv2D)            (None, 109, 109, 64)      129088    \n",
            "_________________________________________________________________\n",
            "max_pooling2d_3 (MaxPooling2 (None, 54, 54, 64)        0         \n",
            "_________________________________________________________________\n",
            "conv2d_5 (Conv2D)            (None, 52, 52, 64)        36928     \n",
            "_________________________________________________________________\n",
            "flatten_1 (Flatten)          (None, 173056)            0         \n",
            "_________________________________________________________________\n",
            "dense_4 (Dense)              (None, 64)                11075648  \n",
            "_________________________________________________________________\n",
            "dense_5 (Dense)              (None, 1)                 65        \n",
            "=================================================================\n",
            "Total params: 11,248,001\n",
            "Trainable params: 11,248,001\n",
            "Non-trainable params: 0\n",
            "_________________________________________________________________\n"
          ],
          "name": "stdout"
        }
      ]
    },
    {
      "cell_type": "code",
      "metadata": {
        "id": "dagzYvHqMNU6",
        "colab_type": "code",
        "colab": {}
      },
      "source": [
        "model.compile(optimizer='adam',\n",
        "              loss=\"binary_crossentropy\",\n",
        "              metrics=['accuracy'])"
      ],
      "execution_count": 26,
      "outputs": []
    },
    {
      "cell_type": "code",
      "metadata": {
        "id": "54ZH1e8zMP92",
        "colab_type": "code",
        "colab": {
          "base_uri": "https://localhost:8080/",
          "height": 357
        },
        "outputId": "8cf63225-cc87-42df-cff2-4ae5c6edabf8"
      },
      "source": [
        "# Fit Model\n",
        "from tensorflow.keras.callbacks import EarlyStopping\n",
        "\n",
        "stop = EarlyStopping(monitor='val_loss',\n",
        "                     min_delta=0.001,\n",
        "                     patience=5)\n",
        "\n",
        "manipulations = model.fit(train_data_gen,\n",
        "                   steps_per_epoch=total_train // batch_size,\n",
        "                   epochs=epochs,\n",
        "                   validation_data=val_data_gen,\n",
        "                   validation_steps=total_val // batch_size,\n",
        "                   callbacks=[stop])"
      ],
      "execution_count": 27,
      "outputs": [
        {
          "output_type": "stream",
          "text": [
            "Epoch 1/50\n",
            "32/32 [==============================] - 10s 313ms/step - loss: 0.8924 - accuracy: 0.5449 - val_loss: 0.4205 - val_accuracy: 0.8068\n",
            "Epoch 2/50\n",
            "32/32 [==============================] - 10s 317ms/step - loss: 0.4508 - accuracy: 0.8004 - val_loss: 0.3110 - val_accuracy: 0.8693\n",
            "Epoch 3/50\n",
            "32/32 [==============================] - 10s 310ms/step - loss: 0.3597 - accuracy: 0.8423 - val_loss: 0.3789 - val_accuracy: 0.8295\n",
            "Epoch 4/50\n",
            "32/32 [==============================] - 10s 309ms/step - loss: 0.3146 - accuracy: 0.8743 - val_loss: 0.3058 - val_accuracy: 0.8580\n",
            "Epoch 5/50\n",
            "32/32 [==============================] - 10s 311ms/step - loss: 0.2656 - accuracy: 0.8862 - val_loss: 0.2312 - val_accuracy: 0.9375\n",
            "Epoch 6/50\n",
            "32/32 [==============================] - 10s 314ms/step - loss: 0.2419 - accuracy: 0.9082 - val_loss: 0.2745 - val_accuracy: 0.8409\n",
            "Epoch 7/50\n",
            "32/32 [==============================] - 10s 319ms/step - loss: 0.2733 - accuracy: 0.8862 - val_loss: 0.2517 - val_accuracy: 0.9148\n",
            "Epoch 8/50\n",
            "32/32 [==============================] - 10s 310ms/step - loss: 0.2927 - accuracy: 0.8782 - val_loss: 0.3047 - val_accuracy: 0.8750\n",
            "Epoch 9/50\n",
            "32/32 [==============================] - 10s 308ms/step - loss: 0.2873 - accuracy: 0.8882 - val_loss: 0.3947 - val_accuracy: 0.8523\n",
            "Epoch 10/50\n",
            "32/32 [==============================] - 10s 310ms/step - loss: 0.2369 - accuracy: 0.9022 - val_loss: 0.2565 - val_accuracy: 0.9091\n"
          ],
          "name": "stdout"
        }
      ]
    },
    {
      "cell_type": "code",
      "metadata": {
        "id": "gYBkBZFtMbRG",
        "colab_type": "code",
        "colab": {
          "base_uri": "https://localhost:8080/",
          "height": 295
        },
        "outputId": "315b9488-8eb3-45d4-f0bf-b006f9a19cf7"
      },
      "source": [
        "# Plot training & validation loss values\n",
        "plt.plot(manipulations.history['loss'])\n",
        "plt.plot(manipulations.history['val_loss'])\n",
        "plt.title('Model Loss')\n",
        "plt.ylabel('Loss')\n",
        "plt.xlabel('Epoch')\n",
        "plt.legend(['Train', 'Test'], loc='upper left')\n",
        "plt.show();"
      ],
      "execution_count": 28,
      "outputs": [
        {
          "output_type": "display_data",
          "data": {
            "image/png": "[encoded data removed]",
            "text/plain": [
              "<Figure size 432x288 with 1 Axes>"
            ]
          },
          "metadata": {
            "tags": [],
            "needs_background": "light"
          }
        }
      ]
    },
    {
      "cell_type": "code",
      "metadata": {
        "id": "m58SgzQhMe6Y",
        "colab_type": "code",
        "colab": {
          "base_uri": "https://localhost:8080/",
          "height": 295
        },
        "outputId": "3e85d9b4-e4fe-4736-9737-4217efa52529"
      },
      "source": [
        "# Plot training & validation accuracy\n",
        "plt.plot(manipulations.history['accuracy'])\n",
        "plt.plot(manipulations.history['val_accuracy'])\n",
        "plt.title('Model Accuracy')\n",
        "plt.ylabel('Loss')\n",
        "plt.xlabel('Epoch')\n",
        "plt.legend(['Train', 'Test'], loc='upper left')\n",
        "plt.show();"
      ],
      "execution_count": 29,
      "outputs": [
        {
          "output_type": "display_data",
          "data": {
            "image/png": "[encoded data removed]",
            "text/plain": [
              "<Figure size 432x288 with 1 Axes>"
            ]
          },
          "metadata": {
            "tags": [],
            "needs_background": "light"
          }
        }
      ]
    },
    {
      "cell_type": "markdown",
      "metadata": {
        "colab_type": "text",
        "id": "uT3UV3gap9H6"
      },
      "source": [
        "# Resources and Stretch Goals\n",
        "\n",
        "Stretch goals\n",
        "- Enhance your code to use classes/functions and accept terms to search and classes to look for in recognizing the downloaded images (e.g. download images of parties, recognize all that contain balloons)\n",
        "- Check out [other available pretrained networks](https://tfhub.dev), try some and compare\n",
        "- Image recognition/classification is somewhat solved, but *relationships* between entities and describing an image is not - check out some of the extended resources (e.g. [Visual Genome](https://visualgenome.org/)) on the topic\n",
        "- Transfer learning - using images you source yourself, [retrain a classifier](https://www.tensorflow.org/hub/tutorials/image_retraining) with a new category\n",
        "- (Not CNN related) Use [piexif](https://pypi.org/project/piexif/) to check out the metadata of images passed in to your system - see if they're from a national park! (Note - many images lack GPS metadata, so this won't work in most cases, but still cool)\n",
        "\n",
        "Resources\n",
        "- [Deep Residual Learning for Image Recognition](https://arxiv.org/abs/1512.03385) - influential paper (introduced ResNet)\n",
        "- [YOLO: Real-Time Object Detection](https://pjreddie.com/darknet/yolo/) - an influential convolution based object detection system, focused on inference speed (for applications to e.g. self driving vehicles)\n",
        "- [R-CNN, Fast R-CNN, Faster R-CNN, YOLO](https://towardsdatascience.com/r-cnn-fast-r-cnn-faster-r-cnn-yolo-object-detection-algorithms-36d53571365e) - comparison of object detection systems\n",
        "- [Common Objects in Context](http://cocodataset.org/) - a large-scale object detection, segmentation, and captioning dataset\n",
        "- [Visual Genome](https://visualgenome.org/) - a dataset, a knowledge base, an ongoing effort to connect structured image concepts to language"
      ]
    }
  ]
}